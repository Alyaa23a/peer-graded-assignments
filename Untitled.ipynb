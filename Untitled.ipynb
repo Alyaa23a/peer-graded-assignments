{
  "metadata": {
    "language_info": {
      "codemirror_mode": {
        "name": "python",
        "version": 3
      },
      "file_extension": ".py",
      "mimetype": "text/x-python",
      "name": "python",
      "nbconvert_exporter": "python",
      "pygments_lexer": "ipython3",
      "version": "3.8"
    },
    "kernelspec": {
      "name": "python",
      "display_name": "Pyolite",
      "language": "python"
    }
  },
  "nbformat_minor": 4,
  "nbformat": 4,
  "cells": [
    {
      "cell_type": "markdown",
      "source": "<h1>Data Science Tools and Ecosystem</h1>",
      "metadata": {}
    },
    {
      "cell_type": "markdown",
      "source": "<titel>Introduction to Data Science</titel>\n<blockquote>Data Science has emerged out as one of the most popular fields of 21st Century. Companies employ Data Scientists to help them gain insights about the market and to better their products.\n\nData Scientists work as decision-makers and are largely responsible for analyzing and handling a large amount of unstructured and structured data.\n\nIn order to do so, he requires various tools and programming languages for Data Science to mend the day in the way he wants. We will go through some of these data science tools utilizes to analyze and generate predictions.</blockquote>",
      "metadata": {}
    },
    {
      "cell_type": "markdown",
      "source": "<titel>data science languages</titel>\n\n<OL>\n<li>Python</li>\n<li>R</li>\n<li>SQL</li>\n    </OL>",
      "metadata": {}
    },
    {
      "cell_type": "markdown",
      "source": "<titel>data science libraries</titel>\n\n<ol>\n<li>pandas</li>\n<li>NumPy</li>\n<li>SciPy</li>\n<li>Matplotlib</li>\n<li>Seaborn</li>\n    </ol>",
      "metadata": {}
    },
    {
      "cell_type": "markdown",
      "source": "|Data science tools|\n---------------------------\n|Tableau|\n|Excel|\n|Rapidminer|\n|DataRobot|",
      "metadata": {}
    },
    {
      "cell_type": "markdown",
      "source": "<h3>Below are a few examples of evaluaing arithmetic expression in python<h3>",
      "metadata": {}
    },
    {
      "cell_type": "code",
      "source": "##this a simple arithmetic expression to mutiply then add integers.\n\n(3*4)+5",
      "metadata": {
        "trusted": true
      },
      "execution_count": 1,
      "outputs": [
        {
          "execution_count": 1,
          "output_type": "execute_result",
          "data": {
            "text/plain": "17"
          },
          "metadata": {}
        }
      ]
    },
    {
      "cell_type": "code",
      "source": "##this will convert 200 minutes to hours by diving by 60\n200//60",
      "metadata": {
        "trusted": true
      },
      "execution_count": 4,
      "outputs": [
        {
          "execution_count": 4,
          "output_type": "execute_result",
          "data": {
            "text/plain": "3"
          },
          "metadata": {}
        }
      ]
    },
    {
      "cell_type": "markdown",
      "source": "<h3>objectives:</h3>\n<ul>\n<li>add comments to code cells</li>\n<li>create markdown cells</li>\n<li>add ordered and unordered lists to markdown cells</li>\n<li>format content of markdown cells with heading styles</li>\n</ul>",
      "metadata": {}
    },
    {
      "cell_type": "markdown",
      "source": "<h2>Author</h2>\n<p>Lakshmi Holla</p>\n<p>Niveditha pandith</p>",
      "metadata": {}
    },
    {
      "cell_type": "code",
      "source": "",
      "metadata": {},
      "execution_count": null,
      "outputs": []
    }
  ]
}